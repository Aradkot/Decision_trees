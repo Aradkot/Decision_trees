{
 "cells": [
  {
   "cell_type": "markdown",
   "metadata": {},
   "source": [
    "# Part 1"
   ]
  },
  {
   "cell_type": "code",
   "execution_count": 1,
   "metadata": {},
   "outputs": [
    {
     "data": {
      "text/html": [
       "<div>\n",
       "<style scoped>\n",
       "    .dataframe tbody tr th:only-of-type {\n",
       "        vertical-align: middle;\n",
       "    }\n",
       "\n",
       "    .dataframe tbody tr th {\n",
       "        vertical-align: top;\n",
       "    }\n",
       "\n",
       "    .dataframe thead th {\n",
       "        text-align: right;\n",
       "    }\n",
       "</style>\n",
       "<table border=\"1\" class=\"dataframe\">\n",
       "  <thead>\n",
       "    <tr style=\"text-align: right;\">\n",
       "      <th></th>\n",
       "      <th>detection_drives_count</th>\n",
       "      <th>avg_speed</th>\n",
       "      <th>near_miss_pedestrian_ratio</th>\n",
       "      <th>near_miss_bicycle_ratio</th>\n",
       "      <th>avg_pedestrian_on_road_volume</th>\n",
       "      <th>avg_bicycle_on_road_volume</th>\n",
       "      <th>braking_count</th>\n",
       "      <th>cornering_count</th>\n",
       "      <th>harsh_braking_ratio</th>\n",
       "      <th>harsh_cornering_ratio</th>\n",
       "      <th>section_length</th>\n",
       "    </tr>\n",
       "  </thead>\n",
       "  <tbody>\n",
       "    <tr>\n",
       "      <th>count</th>\n",
       "      <td>9266.000000</td>\n",
       "      <td>9266.000000</td>\n",
       "      <td>9230.000000</td>\n",
       "      <td>9249.000000</td>\n",
       "      <td>9266.000000</td>\n",
       "      <td>9266.000000</td>\n",
       "      <td>9214.000000</td>\n",
       "      <td>9266.000000</td>\n",
       "      <td>5162.000000</td>\n",
       "      <td>9266.000000</td>\n",
       "      <td>9266.000000</td>\n",
       "    </tr>\n",
       "    <tr>\n",
       "      <th>mean</th>\n",
       "      <td>557.363048</td>\n",
       "      <td>34.631136</td>\n",
       "      <td>0.004318</td>\n",
       "      <td>0.000931</td>\n",
       "      <td>0.050953</td>\n",
       "      <td>0.026391</td>\n",
       "      <td>66.295854</td>\n",
       "      <td>276.613857</td>\n",
       "      <td>0.000003</td>\n",
       "      <td>0.015083</td>\n",
       "      <td>42.657029</td>\n",
       "    </tr>\n",
       "    <tr>\n",
       "      <th>std</th>\n",
       "      <td>1303.459900</td>\n",
       "      <td>13.204298</td>\n",
       "      <td>0.015206</td>\n",
       "      <td>0.004905</td>\n",
       "      <td>0.074877</td>\n",
       "      <td>0.043735</td>\n",
       "      <td>138.626508</td>\n",
       "      <td>614.604640</td>\n",
       "      <td>0.000175</td>\n",
       "      <td>0.037954</td>\n",
       "      <td>44.375733</td>\n",
       "    </tr>\n",
       "    <tr>\n",
       "      <th>min</th>\n",
       "      <td>50.000000</td>\n",
       "      <td>9.923498</td>\n",
       "      <td>0.000000</td>\n",
       "      <td>0.000000</td>\n",
       "      <td>0.000000</td>\n",
       "      <td>0.000000</td>\n",
       "      <td>0.000000</td>\n",
       "      <td>0.000000</td>\n",
       "      <td>0.000000</td>\n",
       "      <td>0.000000</td>\n",
       "      <td>0.671996</td>\n",
       "    </tr>\n",
       "    <tr>\n",
       "      <th>25%</th>\n",
       "      <td>93.000000</td>\n",
       "      <td>25.997728</td>\n",
       "      <td>0.000000</td>\n",
       "      <td>0.000000</td>\n",
       "      <td>0.001731</td>\n",
       "      <td>0.000000</td>\n",
       "      <td>5.000000</td>\n",
       "      <td>38.000000</td>\n",
       "      <td>0.000000</td>\n",
       "      <td>0.000000</td>\n",
       "      <td>11.204812</td>\n",
       "    </tr>\n",
       "    <tr>\n",
       "      <th>50%</th>\n",
       "      <td>188.000000</td>\n",
       "      <td>31.902938</td>\n",
       "      <td>0.000000</td>\n",
       "      <td>0.000000</td>\n",
       "      <td>0.020090</td>\n",
       "      <td>0.010441</td>\n",
       "      <td>21.000000</td>\n",
       "      <td>87.000000</td>\n",
       "      <td>0.000000</td>\n",
       "      <td>0.001331</td>\n",
       "      <td>26.910230</td>\n",
       "    </tr>\n",
       "    <tr>\n",
       "      <th>75%</th>\n",
       "      <td>481.000000</td>\n",
       "      <td>39.849982</td>\n",
       "      <td>0.000167</td>\n",
       "      <td>0.000000</td>\n",
       "      <td>0.067423</td>\n",
       "      <td>0.033782</td>\n",
       "      <td>68.000000</td>\n",
       "      <td>265.000000</td>\n",
       "      <td>0.000000</td>\n",
       "      <td>0.011058</td>\n",
       "      <td>62.054658</td>\n",
       "    </tr>\n",
       "    <tr>\n",
       "      <th>max</th>\n",
       "      <td>25047.000000</td>\n",
       "      <td>90.656510</td>\n",
       "      <td>0.476190</td>\n",
       "      <td>0.157895</td>\n",
       "      <td>0.780000</td>\n",
       "      <td>0.716418</td>\n",
       "      <td>2715.000000</td>\n",
       "      <td>7130.000000</td>\n",
       "      <td>0.012346</td>\n",
       "      <td>0.636364</td>\n",
       "      <td>449.794289</td>\n",
       "    </tr>\n",
       "  </tbody>\n",
       "</table>\n",
       "</div>"
      ],
      "text/plain": [
       "       detection_drives_count    avg_speed  near_miss_pedestrian_ratio  \\\n",
       "count             9266.000000  9266.000000                 9230.000000   \n",
       "mean               557.363048    34.631136                    0.004318   \n",
       "std               1303.459900    13.204298                    0.015206   \n",
       "min                 50.000000     9.923498                    0.000000   \n",
       "25%                 93.000000    25.997728                    0.000000   \n",
       "50%                188.000000    31.902938                    0.000000   \n",
       "75%                481.000000    39.849982                    0.000167   \n",
       "max              25047.000000    90.656510                    0.476190   \n",
       "\n",
       "       near_miss_bicycle_ratio  avg_pedestrian_on_road_volume  \\\n",
       "count              9249.000000                    9266.000000   \n",
       "mean                  0.000931                       0.050953   \n",
       "std                   0.004905                       0.074877   \n",
       "min                   0.000000                       0.000000   \n",
       "25%                   0.000000                       0.001731   \n",
       "50%                   0.000000                       0.020090   \n",
       "75%                   0.000000                       0.067423   \n",
       "max                   0.157895                       0.780000   \n",
       "\n",
       "       avg_bicycle_on_road_volume  braking_count  cornering_count  \\\n",
       "count                 9266.000000    9214.000000      9266.000000   \n",
       "mean                     0.026391      66.295854       276.613857   \n",
       "std                      0.043735     138.626508       614.604640   \n",
       "min                      0.000000       0.000000         0.000000   \n",
       "25%                      0.000000       5.000000        38.000000   \n",
       "50%                      0.010441      21.000000        87.000000   \n",
       "75%                      0.033782      68.000000       265.000000   \n",
       "max                      0.716418    2715.000000      7130.000000   \n",
       "\n",
       "       harsh_braking_ratio  harsh_cornering_ratio  section_length  \n",
       "count          5162.000000            9266.000000     9266.000000  \n",
       "mean              0.000003               0.015083       42.657029  \n",
       "std               0.000175               0.037954       44.375733  \n",
       "min               0.000000               0.000000        0.671996  \n",
       "25%               0.000000               0.000000       11.204812  \n",
       "50%               0.000000               0.001331       26.910230  \n",
       "75%               0.000000               0.011058       62.054658  \n",
       "max               0.012346               0.636364      449.794289  "
      ]
     },
     "execution_count": 1,
     "metadata": {},
     "output_type": "execute_result"
    }
   ],
   "source": [
    "#num 1\n",
    " \n",
    "import pandas as pd   \n",
    "\n",
    "def read_data_from_csv(file_name):\n",
    "    return pd.read_csv(file_name);\n",
    "\n",
    "df = read_data_from_csv(\"Mobileye_risk_TelAviv_collision_likelihood.csv\")\n",
    "df.describe()"
   ]
  },
  {
   "cell_type": "code",
   "execution_count": 2,
   "metadata": {},
   "outputs": [],
   "source": [
    "#num 2\n",
    "\n",
    "import pandas as pd\n",
    "import matplotlib.pyplot as plt\n",
    "import numpy as np\n",
    "from IPython.display import Image  \n",
    "\n",
    "from sklearn import metrics, tree\n",
    "from sklearn import preprocessing\n",
    "from sklearn.model_selection import train_test_split\n",
    "from sklearn.tree import DecisionTreeClassifier, export_text\n",
    "import pydotplus"
   ]
  },
  {
   "cell_type": "code",
   "execution_count": 3,
   "metadata": {
    "direction": "rtl"
   },
   "outputs": [
    {
     "data": {
      "text/html": [
       "<div>\n",
       "<style scoped>\n",
       "    .dataframe tbody tr th:only-of-type {\n",
       "        vertical-align: middle;\n",
       "    }\n",
       "\n",
       "    .dataframe tbody tr th {\n",
       "        vertical-align: top;\n",
       "    }\n",
       "\n",
       "    .dataframe thead th {\n",
       "        text-align: right;\n",
       "    }\n",
       "</style>\n",
       "<table border=\"1\" class=\"dataframe\">\n",
       "  <thead>\n",
       "    <tr style=\"text-align: right;\">\n",
       "      <th></th>\n",
       "      <th>detection_drives_count</th>\n",
       "      <th>avg_speed</th>\n",
       "      <th>near_miss_pedestrian_ratio</th>\n",
       "      <th>near_miss_bicycle_ratio</th>\n",
       "      <th>avg_pedestrian_on_road_volume</th>\n",
       "      <th>avg_bicycle_on_road_volume</th>\n",
       "      <th>braking_count</th>\n",
       "      <th>cornering_count</th>\n",
       "      <th>harsh_braking_ratio</th>\n",
       "      <th>harsh_cornering_ratio</th>\n",
       "      <th>section_length</th>\n",
       "    </tr>\n",
       "  </thead>\n",
       "  <tbody>\n",
       "    <tr>\n",
       "      <th>count</th>\n",
       "      <td>9266.000000</td>\n",
       "      <td>9266.000000</td>\n",
       "      <td>9230.000000</td>\n",
       "      <td>9249.000000</td>\n",
       "      <td>9266.000000</td>\n",
       "      <td>9266.000000</td>\n",
       "      <td>9214.000000</td>\n",
       "      <td>9266.000000</td>\n",
       "      <td>5162.000000</td>\n",
       "      <td>9266.000000</td>\n",
       "      <td>9266.000000</td>\n",
       "    </tr>\n",
       "    <tr>\n",
       "      <th>mean</th>\n",
       "      <td>557.363048</td>\n",
       "      <td>34.631136</td>\n",
       "      <td>0.004318</td>\n",
       "      <td>0.000931</td>\n",
       "      <td>0.050953</td>\n",
       "      <td>0.026391</td>\n",
       "      <td>66.295854</td>\n",
       "      <td>276.613857</td>\n",
       "      <td>0.000003</td>\n",
       "      <td>0.015083</td>\n",
       "      <td>42.657029</td>\n",
       "    </tr>\n",
       "    <tr>\n",
       "      <th>std</th>\n",
       "      <td>1303.459900</td>\n",
       "      <td>13.204298</td>\n",
       "      <td>0.015206</td>\n",
       "      <td>0.004905</td>\n",
       "      <td>0.074877</td>\n",
       "      <td>0.043735</td>\n",
       "      <td>138.626508</td>\n",
       "      <td>614.604640</td>\n",
       "      <td>0.000175</td>\n",
       "      <td>0.037954</td>\n",
       "      <td>44.375733</td>\n",
       "    </tr>\n",
       "    <tr>\n",
       "      <th>min</th>\n",
       "      <td>50.000000</td>\n",
       "      <td>9.923498</td>\n",
       "      <td>0.000000</td>\n",
       "      <td>0.000000</td>\n",
       "      <td>0.000000</td>\n",
       "      <td>0.000000</td>\n",
       "      <td>0.000000</td>\n",
       "      <td>0.000000</td>\n",
       "      <td>0.000000</td>\n",
       "      <td>0.000000</td>\n",
       "      <td>0.671996</td>\n",
       "    </tr>\n",
       "    <tr>\n",
       "      <th>25%</th>\n",
       "      <td>93.000000</td>\n",
       "      <td>25.997728</td>\n",
       "      <td>0.000000</td>\n",
       "      <td>0.000000</td>\n",
       "      <td>0.001731</td>\n",
       "      <td>0.000000</td>\n",
       "      <td>5.000000</td>\n",
       "      <td>38.000000</td>\n",
       "      <td>0.000000</td>\n",
       "      <td>0.000000</td>\n",
       "      <td>11.204812</td>\n",
       "    </tr>\n",
       "    <tr>\n",
       "      <th>50%</th>\n",
       "      <td>188.000000</td>\n",
       "      <td>31.902938</td>\n",
       "      <td>0.000000</td>\n",
       "      <td>0.000000</td>\n",
       "      <td>0.020090</td>\n",
       "      <td>0.010441</td>\n",
       "      <td>21.000000</td>\n",
       "      <td>87.000000</td>\n",
       "      <td>0.000000</td>\n",
       "      <td>0.001331</td>\n",
       "      <td>26.910230</td>\n",
       "    </tr>\n",
       "    <tr>\n",
       "      <th>75%</th>\n",
       "      <td>481.000000</td>\n",
       "      <td>39.849982</td>\n",
       "      <td>0.000167</td>\n",
       "      <td>0.000000</td>\n",
       "      <td>0.067423</td>\n",
       "      <td>0.033782</td>\n",
       "      <td>68.000000</td>\n",
       "      <td>265.000000</td>\n",
       "      <td>0.000000</td>\n",
       "      <td>0.011058</td>\n",
       "      <td>62.054658</td>\n",
       "    </tr>\n",
       "    <tr>\n",
       "      <th>max</th>\n",
       "      <td>25047.000000</td>\n",
       "      <td>90.656510</td>\n",
       "      <td>0.476190</td>\n",
       "      <td>0.157895</td>\n",
       "      <td>0.780000</td>\n",
       "      <td>0.716418</td>\n",
       "      <td>2715.000000</td>\n",
       "      <td>7130.000000</td>\n",
       "      <td>0.012346</td>\n",
       "      <td>0.636364</td>\n",
       "      <td>449.794289</td>\n",
       "    </tr>\n",
       "  </tbody>\n",
       "</table>\n",
       "</div>"
      ],
      "text/plain": [
       "       detection_drives_count    avg_speed  near_miss_pedestrian_ratio  \\\n",
       "count             9266.000000  9266.000000                 9230.000000   \n",
       "mean               557.363048    34.631136                    0.004318   \n",
       "std               1303.459900    13.204298                    0.015206   \n",
       "min                 50.000000     9.923498                    0.000000   \n",
       "25%                 93.000000    25.997728                    0.000000   \n",
       "50%                188.000000    31.902938                    0.000000   \n",
       "75%                481.000000    39.849982                    0.000167   \n",
       "max              25047.000000    90.656510                    0.476190   \n",
       "\n",
       "       near_miss_bicycle_ratio  avg_pedestrian_on_road_volume  \\\n",
       "count              9249.000000                    9266.000000   \n",
       "mean                  0.000931                       0.050953   \n",
       "std                   0.004905                       0.074877   \n",
       "min                   0.000000                       0.000000   \n",
       "25%                   0.000000                       0.001731   \n",
       "50%                   0.000000                       0.020090   \n",
       "75%                   0.000000                       0.067423   \n",
       "max                   0.157895                       0.780000   \n",
       "\n",
       "       avg_bicycle_on_road_volume  braking_count  cornering_count  \\\n",
       "count                 9266.000000    9214.000000      9266.000000   \n",
       "mean                     0.026391      66.295854       276.613857   \n",
       "std                      0.043735     138.626508       614.604640   \n",
       "min                      0.000000       0.000000         0.000000   \n",
       "25%                      0.000000       5.000000        38.000000   \n",
       "50%                      0.010441      21.000000        87.000000   \n",
       "75%                      0.033782      68.000000       265.000000   \n",
       "max                      0.716418    2715.000000      7130.000000   \n",
       "\n",
       "       harsh_braking_ratio  harsh_cornering_ratio  section_length  \n",
       "count          5162.000000            9266.000000     9266.000000  \n",
       "mean              0.000003               0.015083       42.657029  \n",
       "std               0.000175               0.037954       44.375733  \n",
       "min               0.000000               0.000000        0.671996  \n",
       "25%               0.000000               0.000000       11.204812  \n",
       "50%               0.000000               0.001331       26.910230  \n",
       "75%               0.000000               0.011058       62.054658  \n",
       "max               0.012346               0.636364      449.794289  "
      ]
     },
     "execution_count": 3,
     "metadata": {},
     "output_type": "execute_result"
    }
   ],
   "source": [
    "#num 3\n",
    "\n",
    "def read_data_from_csv(file_name):\n",
    "    return pd.read_csv(file_name);\n",
    "\n",
    "df = read_data_from_csv(\"Mobileye_risk_TelAviv_collision_likelihood.csv\")\n",
    "df.describe()\n"
   ]
  },
  {
   "cell_type": "code",
   "execution_count": 38,
   "metadata": {},
   "outputs": [
    {
     "ename": "ModuleNotFoundError",
     "evalue": "No module named 'graphviz'",
     "output_type": "error",
     "traceback": [
      "\u001b[1;31m---------------------------------------------------------------------------\u001b[0m",
      "\u001b[1;31mModuleNotFoundError\u001b[0m                       Traceback (most recent call last)",
      "\u001b[1;32m<ipython-input-38-3fbe6cec80fe>\u001b[0m in \u001b[0;36m<module>\u001b[1;34m\u001b[0m\n\u001b[0;32m     15\u001b[0m \u001b[1;32mfrom\u001b[0m \u001b[0msklearn\u001b[0m \u001b[1;32mimport\u001b[0m \u001b[0mdatasets\u001b[0m\u001b[1;33m\u001b[0m\u001b[1;33m\u001b[0m\u001b[0m\n\u001b[0;32m     16\u001b[0m \u001b[1;32mfrom\u001b[0m \u001b[0msklearn\u001b[0m \u001b[1;32mimport\u001b[0m \u001b[0mtree\u001b[0m\u001b[1;33m\u001b[0m\u001b[1;33m\u001b[0m\u001b[0m\n\u001b[1;32m---> 17\u001b[1;33m \u001b[1;32mfrom\u001b[0m \u001b[0mgraphviz\u001b[0m \u001b[1;32mimport\u001b[0m \u001b[0mDigraph\u001b[0m\u001b[1;33m,\u001b[0m \u001b[0mnohtml\u001b[0m\u001b[1;33m\u001b[0m\u001b[1;33m\u001b[0m\u001b[0m\n\u001b[0m",
      "\u001b[1;31mModuleNotFoundError\u001b[0m: No module named 'graphviz'"
     ]
    }
   ],
   "source": [
    "\n",
    "import pandas as pd\n",
    "import matplotlib.pyplot as plt\n",
    "import numpy as np\n",
    "from sklearn.tree import export_graphviz\n",
    "from io import StringIO \n",
    "from IPython.display import Image  \n",
    "from sklearn.tree import export_text\n",
    "\n",
    "import pandas as pd\n",
    "from sklearn.tree import DecisionTreeClassifier\n",
    "from sklearn.model_selection import train_test_split \n",
    "from sklearn import metrics\n",
    "from sklearn import preprocessing\n",
    "import seaborn as sns \n",
    "from sklearn import datasets\n",
    "from sklearn import tree\n",
    "from graphviz import Digraph, nohtml"
   ]
  },
  {
   "cell_type": "code",
   "execution_count": 5,
   "metadata": {},
   "outputs": [
    {
     "data": {
      "text/plain": [
       "0.000000    5156\n",
       "0.012346       1\n",
       "0.001064       1\n",
       "0.001243       1\n",
       "0.000879       1\n",
       "0.000158       1\n",
       "0.001315       1\n",
       "Name: harsh_braking_ratio, dtype: int64"
      ]
     },
     "execution_count": 5,
     "metadata": {},
     "output_type": "execute_result"
    }
   ],
   "source": [
    "\n",
    "df['harsh_braking_ratio'].value_counts()\n"
   ]
  },
  {
   "cell_type": "code",
   "execution_count": 6,
   "metadata": {},
   "outputs": [
    {
     "data": {
      "text/plain": [
       "Low     0.76063\n",
       "High    0.23937\n",
       "Name: collision_likelihood, dtype: float64"
      ]
     },
     "execution_count": 6,
     "metadata": {},
     "output_type": "execute_result"
    }
   ],
   "source": [
    "df['collision_likelihood'].value_counts()/9266"
   ]
  },
  {
   "cell_type": "code",
   "execution_count": 7,
   "metadata": {},
   "outputs": [
    {
     "data": {
      "text/plain": [
       "detection_drives_count              0\n",
       "avg_speed                           0\n",
       "near_miss_pedestrian_ratio         36\n",
       "near_miss_bicycle_ratio            17\n",
       "avg_pedestrian_on_road_volume       0\n",
       "avg_bicycle_on_road_volume          0\n",
       "braking_count                      52\n",
       "cornering_count                     0\n",
       "harsh_braking_ratio              4104\n",
       "harsh_cornering_ratio               0\n",
       "section_length                      0\n",
       "collision_likelihood                0\n",
       "dtype: int64"
      ]
     },
     "execution_count": 7,
     "metadata": {},
     "output_type": "execute_result"
    }
   ],
   "source": [
    "df.isna().sum()"
   ]
  },
  {
   "cell_type": "markdown",
   "metadata": {},
   "source": [
    "# Part 2"
   ]
  },
  {
   "cell_type": "code",
   "execution_count": 8,
   "metadata": {},
   "outputs": [],
   "source": [
    "#num 7\n",
    "df.drop(['harsh_braking_ratio'], axis =1, inplace = True)"
   ]
  },
  {
   "cell_type": "code",
   "execution_count": 9,
   "metadata": {},
   "outputs": [
    {
     "name": "stdout",
     "output_type": "stream",
     "text": [
      "['detection_drives_count', 'avg_speed', 'near_miss_pedestrian_ratio', 'near_miss_bicycle_ratio', 'avg_pedestrian_on_road_volume', 'avg_bicycle_on_road_volume', 'braking_count', 'cornering_count', 'harsh_cornering_ratio', 'section_length', 'collision_likelihood']\n"
     ]
    }
   ],
   "source": [
    "row,col = df.shape\n",
    "\n",
    "print(list(df.columns))"
   ]
  },
  {
   "cell_type": "code",
   "execution_count": 10,
   "metadata": {},
   "outputs": [],
   "source": [
    "#num 8 a + b \n",
    "df['near_miss_pedestrian_ratio'] = df['near_miss_pedestrian_ratio'].fillna((df['near_miss_pedestrian_ratio'].mean()))\n",
    "\n",
    "df['near_miss_bicycle_ratio'] = df['near_miss_bicycle_ratio'].fillna((df['near_miss_bicycle_ratio'].median()))\n",
    "\n"
   ]
  },
  {
   "cell_type": "code",
   "execution_count": 11,
   "metadata": {},
   "outputs": [],
   "source": [
    "#num 8 c\n",
    "def fill_NaN_with_normalRand(col): \n",
    "    Vals = col.dropna()\n",
    "    Mask = Vals.mean()\n",
    "    Sigma = Vals.std()\n",
    "    for cell in np.where(col.isnull())[0]:\n",
    "        col.at[cell] = np.random.normal(loc = Mask, scale = Sigma, size = 1)"
   ]
  },
  {
   "cell_type": "code",
   "execution_count": 12,
   "metadata": {},
   "outputs": [],
   "source": [
    "#num 8 d\n",
    "fill_NaN_with_normalRand(df['braking_count'])"
   ]
  },
  {
   "cell_type": "code",
   "execution_count": 13,
   "metadata": {},
   "outputs": [
    {
     "name": "stdout",
     "output_type": "stream",
     "text": [
      "False \n",
      " 0\n"
     ]
    }
   ],
   "source": [
    "#num 8 e\n",
    "print(df.isna().any().any() ,\"\\n\", df.isna().sum().sum())"
   ]
  },
  {
   "cell_type": "code",
   "execution_count": 14,
   "metadata": {},
   "outputs": [
    {
     "data": {
      "text/plain": [
       "detection_drives_count           0\n",
       "avg_speed                        0\n",
       "near_miss_pedestrian_ratio       0\n",
       "near_miss_bicycle_ratio          0\n",
       "avg_pedestrian_on_road_volume    0\n",
       "avg_bicycle_on_road_volume       0\n",
       "braking_count                    0\n",
       "cornering_count                  0\n",
       "harsh_cornering_ratio            0\n",
       "section_length                   0\n",
       "collision_likelihood             0\n",
       "dtype: int64"
      ]
     },
     "execution_count": 14,
     "metadata": {},
     "output_type": "execute_result"
    }
   ],
   "source": [
    "df.isna().sum()"
   ]
  },
  {
   "cell_type": "code",
   "execution_count": 15,
   "metadata": {
    "direction": "ltr"
   },
   "outputs": [],
   "source": [
    "#num 9 \n",
    "col = list(df.columns)\n",
    "col.remove('collision_likelihood')\n",
    "\n",
    "X = df[col].copy()\n",
    "y = df[\"collision_likelihood\"].copy()\n",
    "\n",
    "X_train, X_test, y_train, y_test = train_test_split(X, y, test_size=0.2, random_state=0)"
   ]
  },
  {
   "cell_type": "code",
   "execution_count": 16,
   "metadata": {
    "direction": "ltr",
    "scrolled": true
   },
   "outputs": [
    {
     "name": "stdout",
     "output_type": "stream",
     "text": [
      "X_test.shape = (1854, 10)\n",
      "X_train.shape = (7412, 10)\n",
      "Y_test.shape = (1854,)\n",
      "Y_train.shape = (7412,)\n"
     ]
    }
   ],
   "source": [
    "#num 10\n",
    "print( \"X_test.shape =\",X_test.shape)\n",
    "print( \"X_train.shape =\",X_train.shape) \n",
    "print( \"Y_test.shape =\",y_test.shape) \n",
    "print( \"Y_train.shape =\",y_train.shape) "
   ]
  },
  {
   "cell_type": "markdown",
   "metadata": {},
   "source": [
    "# Part 3"
   ]
  },
  {
   "cell_type": "code",
   "execution_count": 17,
   "metadata": {},
   "outputs": [],
   "source": [
    "#num 11 \n",
    "test_acc = []\n",
    "train_acc = []"
   ]
  },
  {
   "cell_type": "code",
   "execution_count": 18,
   "metadata": {},
   "outputs": [],
   "source": [
    "#num 12\n",
    "depth_range = range(1, 21)\n",
    "for d in depth_range:\n",
    "    tree_clf = DecisionTreeClassifier(max_depth = d)\n",
    "    tree_clf = tree_clf.fit(X_train, y_train)"
   ]
  },
  {
   "cell_type": "code",
   "execution_count": 19,
   "metadata": {},
   "outputs": [],
   "source": [
    "#num 13\n",
    "def create_decision_tree_classifier(X, y, d):\n",
    "    tree_clf = DecisionTreeClassifier(max_depth = d)\n",
    "    tree_clf = tree_clf.fit(X, y)\n",
    "    return tree_clf\n",
    "\n",
    "for d in depth_range:\n",
    "    tree_clf = DecisionTreeClassifier(max_depth = d)\n",
    "    tree_clf = tree_clf.fit(X_train, y_train)\n",
    "    y_pred_test = tree_clf.predict(X_test)\n",
    "    y_pred_train = tree_clf.predict(X_train)\n",
    "    test_acc.append(metrics.accuracy_score(y_test, y_pred_test))\n",
    "    train_acc.append(metrics.accuracy_score(y_train, y_pred_train))"
   ]
  },
  {
   "cell_type": "code",
   "execution_count": 20,
   "metadata": {},
   "outputs": [
    {
     "data": {
      "text/html": [
       "<div>\n",
       "<style scoped>\n",
       "    .dataframe tbody tr th:only-of-type {\n",
       "        vertical-align: middle;\n",
       "    }\n",
       "\n",
       "    .dataframe tbody tr th {\n",
       "        vertical-align: top;\n",
       "    }\n",
       "\n",
       "    .dataframe thead th {\n",
       "        text-align: right;\n",
       "    }\n",
       "</style>\n",
       "<table border=\"1\" class=\"dataframe\">\n",
       "  <thead>\n",
       "    <tr style=\"text-align: right;\">\n",
       "      <th></th>\n",
       "      <th>max Depth</th>\n",
       "      <th>Test-accuracy</th>\n",
       "      <th>Train-accuracy</th>\n",
       "    </tr>\n",
       "  </thead>\n",
       "  <tbody>\n",
       "    <tr>\n",
       "      <th>0</th>\n",
       "      <td>1</td>\n",
       "      <td>0.747033</td>\n",
       "      <td>0.775364</td>\n",
       "    </tr>\n",
       "    <tr>\n",
       "      <th>1</th>\n",
       "      <td>2</td>\n",
       "      <td>0.779935</td>\n",
       "      <td>0.799379</td>\n",
       "    </tr>\n",
       "    <tr>\n",
       "      <th>2</th>\n",
       "      <td>3</td>\n",
       "      <td>0.792880</td>\n",
       "      <td>0.808554</td>\n",
       "    </tr>\n",
       "    <tr>\n",
       "      <th>3</th>\n",
       "      <td>4</td>\n",
       "      <td>0.795038</td>\n",
       "      <td>0.817188</td>\n",
       "    </tr>\n",
       "    <tr>\n",
       "      <th>4</th>\n",
       "      <td>5</td>\n",
       "      <td>0.800431</td>\n",
       "      <td>0.822855</td>\n",
       "    </tr>\n",
       "    <tr>\n",
       "      <th>5</th>\n",
       "      <td>6</td>\n",
       "      <td>0.807983</td>\n",
       "      <td>0.840529</td>\n",
       "    </tr>\n",
       "    <tr>\n",
       "      <th>6</th>\n",
       "      <td>7</td>\n",
       "      <td>0.817691</td>\n",
       "      <td>0.856179</td>\n",
       "    </tr>\n",
       "    <tr>\n",
       "      <th>7</th>\n",
       "      <td>8</td>\n",
       "      <td>0.793420</td>\n",
       "      <td>0.868861</td>\n",
       "    </tr>\n",
       "    <tr>\n",
       "      <th>8</th>\n",
       "      <td>9</td>\n",
       "      <td>0.789644</td>\n",
       "      <td>0.885996</td>\n",
       "    </tr>\n",
       "    <tr>\n",
       "      <th>9</th>\n",
       "      <td>10</td>\n",
       "      <td>0.777238</td>\n",
       "      <td>0.901916</td>\n",
       "    </tr>\n",
       "    <tr>\n",
       "      <th>10</th>\n",
       "      <td>11</td>\n",
       "      <td>0.780475</td>\n",
       "      <td>0.917566</td>\n",
       "    </tr>\n",
       "    <tr>\n",
       "      <th>11</th>\n",
       "      <td>12</td>\n",
       "      <td>0.770766</td>\n",
       "      <td>0.937264</td>\n",
       "    </tr>\n",
       "    <tr>\n",
       "      <th>12</th>\n",
       "      <td>13</td>\n",
       "      <td>0.775620</td>\n",
       "      <td>0.953319</td>\n",
       "    </tr>\n",
       "    <tr>\n",
       "      <th>13</th>\n",
       "      <td>14</td>\n",
       "      <td>0.774002</td>\n",
       "      <td>0.966001</td>\n",
       "    </tr>\n",
       "    <tr>\n",
       "      <th>14</th>\n",
       "      <td>15</td>\n",
       "      <td>0.762675</td>\n",
       "      <td>0.976525</td>\n",
       "    </tr>\n",
       "    <tr>\n",
       "      <th>15</th>\n",
       "      <td>16</td>\n",
       "      <td>0.761597</td>\n",
       "      <td>0.986239</td>\n",
       "    </tr>\n",
       "    <tr>\n",
       "      <th>16</th>\n",
       "      <td>17</td>\n",
       "      <td>0.753506</td>\n",
       "      <td>0.991096</td>\n",
       "    </tr>\n",
       "    <tr>\n",
       "      <th>17</th>\n",
       "      <td>18</td>\n",
       "      <td>0.756203</td>\n",
       "      <td>0.994603</td>\n",
       "    </tr>\n",
       "    <tr>\n",
       "      <th>18</th>\n",
       "      <td>19</td>\n",
       "      <td>0.754585</td>\n",
       "      <td>0.996087</td>\n",
       "    </tr>\n",
       "    <tr>\n",
       "      <th>19</th>\n",
       "      <td>20</td>\n",
       "      <td>0.761597</td>\n",
       "      <td>0.998111</td>\n",
       "    </tr>\n",
       "  </tbody>\n",
       "</table>\n",
       "</div>"
      ],
      "text/plain": [
       "    max Depth  Test-accuracy  Train-accuracy\n",
       "0           1       0.747033        0.775364\n",
       "1           2       0.779935        0.799379\n",
       "2           3       0.792880        0.808554\n",
       "3           4       0.795038        0.817188\n",
       "4           5       0.800431        0.822855\n",
       "5           6       0.807983        0.840529\n",
       "6           7       0.817691        0.856179\n",
       "7           8       0.793420        0.868861\n",
       "8           9       0.789644        0.885996\n",
       "9          10       0.777238        0.901916\n",
       "10         11       0.780475        0.917566\n",
       "11         12       0.770766        0.937264\n",
       "12         13       0.775620        0.953319\n",
       "13         14       0.774002        0.966001\n",
       "14         15       0.762675        0.976525\n",
       "15         16       0.761597        0.986239\n",
       "16         17       0.753506        0.991096\n",
       "17         18       0.756203        0.994603\n",
       "18         19       0.754585        0.996087\n",
       "19         20       0.761597        0.998111"
      ]
     },
     "execution_count": 20,
     "metadata": {},
     "output_type": "execute_result"
    }
   ],
   "source": [
    "accuracies = pd.DataFrame({\"max Depth\": depth_range, \"Test-accuracy\": test_acc, \"Train-accuracy\": train_acc})\n",
    "accuracies"
   ]
  },
  {
   "cell_type": "code",
   "execution_count": null,
   "metadata": {},
   "outputs": [],
   "source": []
  },
  {
   "cell_type": "code",
   "execution_count": 21,
   "metadata": {
    "scrolled": true
   },
   "outputs": [
    {
     "data": {
      "image/png": "[encoded data removed]",
      "text/plain": [
       "<Figure size 432x288 with 1 Axes>"
      ]
     },
     "metadata": {
      "needs_background": "light"
     },
     "output_type": "display_data"
    }
   ],
   "source": [
    "#num 14\n",
    "\n",
    "test_scatter =plt.scatter(depth_range,test_acc)\n",
    "train_scatter = plt.scatter(depth_range,train_acc)\n",
    "plt.title('Accuracy over Tree Depth')\n",
    "plt.xlabel(\"max depth\")\n",
    "plt.ylabel(\"accuracy\")\n",
    "plt.legend((train_scatter,test_scatter),(\"Train-accuracy\",\"Test-accuracy\"))\n",
    "plt.show()"
   ]
  },
  {
   "cell_type": "code",
   "execution_count": 22,
   "metadata": {},
   "outputs": [],
   "source": [
    "tree_clf = DecisionTreeClassifier(max_depth=6, min_samples_leaf=10, random_state=0)\n",
    "tree_clf.fit(X_train,y_train)\n",
    "\n",
    "train = pd.concat([X_train,y_train],axis=1)\n",
    "classes = train['collision_likelihood'].unique()"
   ]
  },
  {
   "cell_type": "code",
   "execution_count": 23,
   "metadata": {},
   "outputs": [
    {
     "name": "stdout",
     "output_type": "stream",
     "text": [
      "0.3631279435136615\n"
     ]
    }
   ],
   "source": [
    "#num 16\n",
    "def Gini_Calc_1(train):\n",
    "    values, counts = np.unique(y_train, return_counts = True)\n",
    "    Gini = 0\n",
    "    omega = len(y_train)\n",
    "    Sigma = 0\n",
    "    if (len(values) <= 1):\n",
    "        return(Gini)\n",
    "    for c in counts:\n",
    "        Sigma += np.square(c / omega)\n",
    "    Gini = 1 - Sigma\n",
    "    return Gini\n",
    "print(Gini_Calc_1(train))"
   ]
  },
  {
   "cell_type": "code",
   "execution_count": 24,
   "metadata": {},
   "outputs": [
    {
     "name": "stdout",
     "output_type": "stream",
     "text": [
      "0.36312794351366157\n"
     ]
    }
   ],
   "source": [
    "#num 17\n",
    "def Gini_Calc_2(column, value):\n",
    "    a = train.loc[train[column] <= value]\n",
    "    b = train.loc[train[column] > value]\n",
    "    Gini = (Gini_Calc_1(a) * (a.shape[0]/train.shape[0])) + (Gini_Calc_1(b) * (b.shape[0]/train.shape[0]))\n",
    "    return Gini\n",
    "print(Gini_Calc_2('near_miss_pedestrian_ratio', 0.002))  \n"
   ]
  },
  {
   "cell_type": "code",
   "execution_count": 25,
   "metadata": {},
   "outputs": [],
   "source": [
    "def Gini_Calc_2(column, value):\n",
    "   column_Copy = column\n",
    "   column_Copy[\"collision_likelihood\"] =value;"
   ]
  },
  {
   "cell_type": "code",
   "execution_count": 26,
   "metadata": {},
   "outputs": [
    {
     "name": "stdout",
     "output_type": "stream",
     "text": [
      "0.3631279435136615\n"
     ]
    }
   ],
   "source": [
    "#num 18\n",
    "print(Gini_Calc_2('section_length', 23))  "
   ]
  },
  {
   "cell_type": "code",
   "execution_count": 27,
   "metadata": {},
   "outputs": [
    {
     "data": {
      "text/plain": [
       "Text(0.5, 1.0, 'Impotance over features')"
      ]
     },
     "execution_count": 27,
     "metadata": {},
     "output_type": "execute_result"
    },
    {
     "data": {
      "image/png": "[encoded data removed]",
      "text/plain": [
       "<Figure size 432x288 with 1 Axes>"
      ]
     },
     "metadata": {
      "needs_background": "light"
     },
     "output_type": "display_data"
    }
   ],
   "source": [
    "#num 21\n",
    "tree_importance=tree_clf.feature_importances_\n",
    "impotance_features=pd.DataFrame({\"Feature\":col,\"Impotance\":tree_importance})\n",
    "impotance_features=impotance_features.sort_values(\"Impotance\", ascending=False)\n",
    "plt.barh(impotance_features[\"Feature\"],impotance_features[\"Impotance\"], color='royalblue', alpha=0.7)\n",
    "plt.grid(color='black', linestyle='--', linewidth=1, axis='y', alpha=0.9)\n",
    "plt.title('Impotance over features')"
   ]
  },
  {
   "cell_type": "code",
   "execution_count": 32,
   "metadata": {},
   "outputs": [],
   "source": [
    "from IPython.display import Image  \n",
    "from sklearn.tree import export_text\n",
    "import pydotplus"
   ]
  },
  {
   "cell_type": "markdown",
   "metadata": {},
   "source": [
    "# Part 3 c\n"
   ]
  },
  {
   "cell_type": "code",
   "execution_count": 69,
   "metadata": {},
   "outputs": [
    {
     "ename": "SyntaxError",
     "evalue": "(unicode error) 'unicodeescape' codec can't decode bytes in position 2-3: truncated \\UXXXXXXXX escape (<ipython-input-69-af71500ca4cc>, line 9)",
     "output_type": "error",
     "traceback": [
      "\u001b[1;36m  File \u001b[1;32m\"<ipython-input-69-af71500ca4cc>\"\u001b[1;36m, line \u001b[1;32m9\u001b[0m\n\u001b[1;33m    os.environ[\"PATH\"] += os.pathsep + 'C:\\Users\\97254\\Desktop\\Graphviz\\include\\graphviz'\u001b[0m\n\u001b[1;37m                                       ^\u001b[0m\n\u001b[1;31mSyntaxError\u001b[0m\u001b[1;31m:\u001b[0m (unicode error) 'unicodeescape' codec can't decode bytes in position 2-3: truncated \\UXXXXXXXX escape\n"
     ]
    }
   ],
   "source": [
    "#num 22\n",
    "import pydotplus\n",
    "from IPython.display import Image  \n",
    "import os\n",
    "from graphviz import Digraph, nohtml\n",
    "from IPython.display import Image \n",
    "import pydot_ng as pydot\n",
    "import os\n",
    "os.environ[\"PATH\"] += os.pathsep + 'C:\\Users\\97254\\Desktop\\Graphviz\\include\\graphviz'"
   ]
  },
  {
   "cell_type": "code",
   "execution_count": 70,
   "metadata": {},
   "outputs": [
    {
     "ename": "InvocationException",
     "evalue": "GraphViz's executables not found",
     "output_type": "error",
     "traceback": [
      "\u001b[1;31m---------------------------------------------------------------------------\u001b[0m",
      "\u001b[1;31mInvocationException\u001b[0m                       Traceback (most recent call last)",
      "\u001b[1;32m<ipython-input-70-8878e6b940b1>\u001b[0m in \u001b[0;36m<module>\u001b[1;34m\u001b[0m\n\u001b[0;32m     13\u001b[0m \u001b[0mgraph\u001b[0m \u001b[1;33m=\u001b[0m \u001b[0mget_graph\u001b[0m\u001b[1;33m(\u001b[0m\u001b[0mtree_clf\u001b[0m\u001b[1;33m)\u001b[0m\u001b[1;33m\u001b[0m\u001b[1;33m\u001b[0m\u001b[0m\n\u001b[0;32m     14\u001b[0m \u001b[1;33m\u001b[0m\u001b[0m\n\u001b[1;32m---> 15\u001b[1;33m \u001b[0mImage\u001b[0m\u001b[1;33m(\u001b[0m\u001b[0mgraph\u001b[0m\u001b[1;33m.\u001b[0m\u001b[0mcreate_png\u001b[0m\u001b[1;33m(\u001b[0m\u001b[1;33m)\u001b[0m\u001b[1;33m)\u001b[0m\u001b[1;33m\u001b[0m\u001b[1;33m\u001b[0m\u001b[0m\n\u001b[0m",
      "\u001b[1;32m~\\anaconda3\\lib\\site-packages\\pydotplus\\graphviz.py\u001b[0m in \u001b[0;36m<lambda>\u001b[1;34m(f, prog)\u001b[0m\n\u001b[0;32m   1795\u001b[0m             self.__setattr__(\n\u001b[0;32m   1796\u001b[0m                 \u001b[1;34m'create_'\u001b[0m \u001b[1;33m+\u001b[0m \u001b[0mfrmt\u001b[0m\u001b[1;33m,\u001b[0m\u001b[1;33m\u001b[0m\u001b[1;33m\u001b[0m\u001b[0m\n\u001b[1;32m-> 1797\u001b[1;33m                 \u001b[1;32mlambda\u001b[0m \u001b[0mf\u001b[0m\u001b[1;33m=\u001b[0m\u001b[0mfrmt\u001b[0m\u001b[1;33m,\u001b[0m \u001b[0mprog\u001b[0m\u001b[1;33m=\u001b[0m\u001b[0mself\u001b[0m\u001b[1;33m.\u001b[0m\u001b[0mprog\u001b[0m\u001b[1;33m:\u001b[0m \u001b[0mself\u001b[0m\u001b[1;33m.\u001b[0m\u001b[0mcreate\u001b[0m\u001b[1;33m(\u001b[0m\u001b[0mformat\u001b[0m\u001b[1;33m=\u001b[0m\u001b[0mf\u001b[0m\u001b[1;33m,\u001b[0m \u001b[0mprog\u001b[0m\u001b[1;33m=\u001b[0m\u001b[0mprog\u001b[0m\u001b[1;33m)\u001b[0m\u001b[1;33m\u001b[0m\u001b[1;33m\u001b[0m\u001b[0m\n\u001b[0m\u001b[0;32m   1798\u001b[0m             )\n\u001b[0;32m   1799\u001b[0m             \u001b[0mf\u001b[0m \u001b[1;33m=\u001b[0m \u001b[0mself\u001b[0m\u001b[1;33m.\u001b[0m\u001b[0m__dict__\u001b[0m\u001b[1;33m[\u001b[0m\u001b[1;34m'create_'\u001b[0m \u001b[1;33m+\u001b[0m \u001b[0mfrmt\u001b[0m\u001b[1;33m]\u001b[0m\u001b[1;33m\u001b[0m\u001b[1;33m\u001b[0m\u001b[0m\n",
      "\u001b[1;32m~\\anaconda3\\lib\\site-packages\\pydotplus\\graphviz.py\u001b[0m in \u001b[0;36mcreate\u001b[1;34m(self, prog, format)\u001b[0m\n\u001b[0;32m   1957\u001b[0m             \u001b[0mself\u001b[0m\u001b[1;33m.\u001b[0m\u001b[0mprogs\u001b[0m \u001b[1;33m=\u001b[0m \u001b[0mfind_graphviz\u001b[0m\u001b[1;33m(\u001b[0m\u001b[1;33m)\u001b[0m\u001b[1;33m\u001b[0m\u001b[1;33m\u001b[0m\u001b[0m\n\u001b[0;32m   1958\u001b[0m             \u001b[1;32mif\u001b[0m \u001b[0mself\u001b[0m\u001b[1;33m.\u001b[0m\u001b[0mprogs\u001b[0m \u001b[1;32mis\u001b[0m \u001b[1;32mNone\u001b[0m\u001b[1;33m:\u001b[0m\u001b[1;33m\u001b[0m\u001b[1;33m\u001b[0m\u001b[0m\n\u001b[1;32m-> 1959\u001b[1;33m                 raise InvocationException(\n\u001b[0m\u001b[0;32m   1960\u001b[0m                     'GraphViz\\'s executables not found')\n\u001b[0;32m   1961\u001b[0m \u001b[1;33m\u001b[0m\u001b[0m\n",
      "\u001b[1;31mInvocationException\u001b[0m: GraphViz's executables not found"
     ]
    }
   ],
   "source": [
    "#num 22\n",
    "def get_graph(clf):\n",
    "    df_feature = list(train.columns)\n",
    "    df_feature = df_feature[:-1]\n",
    "    dot_data = tree.export_graphviz(clf, out_file=None,\n",
    "                                    filled=True, \n",
    "                                    rounded=True,\n",
    "                                    special_characters=True,\n",
    "                                    feature_names= df_feature,\n",
    "                                    class_names=list(classes))\n",
    "    graph = pydotplus.graph_from_dot_data(dot_data)\n",
    "    return graph\n",
    "\n",
    "graph = get_graph(tree_clf)\n",
    "\n",
    "Image(graph.create_png())"
   ]
  },
  {
   "cell_type": "code",
   "execution_count": 71,
   "metadata": {},
   "outputs": [
    {
     "ename": "InvocationException",
     "evalue": "GraphViz's executables not found",
     "output_type": "error",
     "traceback": [
      "\u001b[1;31m---------------------------------------------------------------------------\u001b[0m",
      "\u001b[1;31mInvocationException\u001b[0m                       Traceback (most recent call last)",
      "\u001b[1;32m<ipython-input-71-1b090895d1ac>\u001b[0m in \u001b[0;36m<module>\u001b[1;34m\u001b[0m\n\u001b[0;32m      4\u001b[0m     \u001b[0mg\u001b[0m\u001b[1;33m.\u001b[0m\u001b[0mwrite_jpg\u001b[0m\u001b[1;33m(\u001b[0m\u001b[1;34m\"Decission_Tree.png\"\u001b[0m\u001b[1;33m)\u001b[0m\u001b[1;33m\u001b[0m\u001b[1;33m\u001b[0m\u001b[0m\n\u001b[0;32m      5\u001b[0m \u001b[1;33m\u001b[0m\u001b[0m\n\u001b[1;32m----> 6\u001b[1;33m \u001b[0msave_graph\u001b[0m\u001b[1;33m(\u001b[0m\u001b[0mgraph\u001b[0m\u001b[1;33m)\u001b[0m\u001b[1;33m\u001b[0m\u001b[1;33m\u001b[0m\u001b[0m\n\u001b[0m\u001b[0;32m      7\u001b[0m \u001b[1;33m\u001b[0m\u001b[0m\n",
      "\u001b[1;32m<ipython-input-71-1b090895d1ac>\u001b[0m in \u001b[0;36msave_graph\u001b[1;34m(g)\u001b[0m\n\u001b[0;32m      1\u001b[0m \u001b[1;31m#num 24\u001b[0m\u001b[1;33m\u001b[0m\u001b[1;33m\u001b[0m\u001b[1;33m\u001b[0m\u001b[0m\n\u001b[0;32m      2\u001b[0m \u001b[1;32mdef\u001b[0m \u001b[0msave_graph\u001b[0m\u001b[1;33m(\u001b[0m\u001b[0mg\u001b[0m\u001b[1;33m)\u001b[0m\u001b[1;33m:\u001b[0m\u001b[1;33m\u001b[0m\u001b[1;33m\u001b[0m\u001b[0m\n\u001b[1;32m----> 3\u001b[1;33m     \u001b[0mg\u001b[0m\u001b[1;33m.\u001b[0m\u001b[0mwrite_pdf\u001b[0m\u001b[1;33m(\u001b[0m\u001b[1;34m\"Decission_Tree.pdf\"\u001b[0m\u001b[1;33m)\u001b[0m\u001b[1;33m\u001b[0m\u001b[1;33m\u001b[0m\u001b[0m\n\u001b[0m\u001b[0;32m      4\u001b[0m     \u001b[0mg\u001b[0m\u001b[1;33m.\u001b[0m\u001b[0mwrite_jpg\u001b[0m\u001b[1;33m(\u001b[0m\u001b[1;34m\"Decission_Tree.png\"\u001b[0m\u001b[1;33m)\u001b[0m\u001b[1;33m\u001b[0m\u001b[1;33m\u001b[0m\u001b[0m\n\u001b[0;32m      5\u001b[0m \u001b[1;33m\u001b[0m\u001b[0m\n",
      "\u001b[1;32m~\\anaconda3\\lib\\site-packages\\pydotplus\\graphviz.py\u001b[0m in \u001b[0;36m<lambda>\u001b[1;34m(path, f, prog)\u001b[0m\n\u001b[0;32m   1808\u001b[0m                 \u001b[1;32mlambda\u001b[0m \u001b[0mpath\u001b[0m\u001b[1;33m,\u001b[0m\u001b[1;33m\u001b[0m\u001b[1;33m\u001b[0m\u001b[0m\n\u001b[0;32m   1809\u001b[0m                 \u001b[0mf\u001b[0m\u001b[1;33m=\u001b[0m\u001b[0mfrmt\u001b[0m\u001b[1;33m,\u001b[0m\u001b[1;33m\u001b[0m\u001b[1;33m\u001b[0m\u001b[0m\n\u001b[1;32m-> 1810\u001b[1;33m                 \u001b[0mprog\u001b[0m\u001b[1;33m=\u001b[0m\u001b[0mself\u001b[0m\u001b[1;33m.\u001b[0m\u001b[0mprog\u001b[0m\u001b[1;33m:\u001b[0m \u001b[0mself\u001b[0m\u001b[1;33m.\u001b[0m\u001b[0mwrite\u001b[0m\u001b[1;33m(\u001b[0m\u001b[0mpath\u001b[0m\u001b[1;33m,\u001b[0m \u001b[0mformat\u001b[0m\u001b[1;33m=\u001b[0m\u001b[0mf\u001b[0m\u001b[1;33m,\u001b[0m \u001b[0mprog\u001b[0m\u001b[1;33m=\u001b[0m\u001b[0mprog\u001b[0m\u001b[1;33m)\u001b[0m\u001b[1;33m\u001b[0m\u001b[1;33m\u001b[0m\u001b[0m\n\u001b[0m\u001b[0;32m   1811\u001b[0m             )\n\u001b[0;32m   1812\u001b[0m \u001b[1;33m\u001b[0m\u001b[0m\n",
      "\u001b[1;32m~\\anaconda3\\lib\\site-packages\\pydotplus\\graphviz.py\u001b[0m in \u001b[0;36mwrite\u001b[1;34m(self, path, prog, format)\u001b[0m\n\u001b[0;32m   1916\u001b[0m \u001b[1;33m\u001b[0m\u001b[0m\n\u001b[0;32m   1917\u001b[0m             \u001b[1;32melse\u001b[0m\u001b[1;33m:\u001b[0m\u001b[1;33m\u001b[0m\u001b[1;33m\u001b[0m\u001b[0m\n\u001b[1;32m-> 1918\u001b[1;33m                 \u001b[0mfobj\u001b[0m\u001b[1;33m.\u001b[0m\u001b[0mwrite\u001b[0m\u001b[1;33m(\u001b[0m\u001b[0mself\u001b[0m\u001b[1;33m.\u001b[0m\u001b[0mcreate\u001b[0m\u001b[1;33m(\u001b[0m\u001b[0mprog\u001b[0m\u001b[1;33m,\u001b[0m \u001b[0mformat\u001b[0m\u001b[1;33m)\u001b[0m\u001b[1;33m)\u001b[0m\u001b[1;33m\u001b[0m\u001b[1;33m\u001b[0m\u001b[0m\n\u001b[0m\u001b[0;32m   1919\u001b[0m         \u001b[1;32mfinally\u001b[0m\u001b[1;33m:\u001b[0m\u001b[1;33m\u001b[0m\u001b[1;33m\u001b[0m\u001b[0m\n\u001b[0;32m   1920\u001b[0m             \u001b[1;32mif\u001b[0m \u001b[0mclose\u001b[0m\u001b[1;33m:\u001b[0m\u001b[1;33m\u001b[0m\u001b[1;33m\u001b[0m\u001b[0m\n",
      "\u001b[1;32m~\\anaconda3\\lib\\site-packages\\pydotplus\\graphviz.py\u001b[0m in \u001b[0;36mcreate\u001b[1;34m(self, prog, format)\u001b[0m\n\u001b[0;32m   1957\u001b[0m             \u001b[0mself\u001b[0m\u001b[1;33m.\u001b[0m\u001b[0mprogs\u001b[0m \u001b[1;33m=\u001b[0m \u001b[0mfind_graphviz\u001b[0m\u001b[1;33m(\u001b[0m\u001b[1;33m)\u001b[0m\u001b[1;33m\u001b[0m\u001b[1;33m\u001b[0m\u001b[0m\n\u001b[0;32m   1958\u001b[0m             \u001b[1;32mif\u001b[0m \u001b[0mself\u001b[0m\u001b[1;33m.\u001b[0m\u001b[0mprogs\u001b[0m \u001b[1;32mis\u001b[0m \u001b[1;32mNone\u001b[0m\u001b[1;33m:\u001b[0m\u001b[1;33m\u001b[0m\u001b[1;33m\u001b[0m\u001b[0m\n\u001b[1;32m-> 1959\u001b[1;33m                 raise InvocationException(\n\u001b[0m\u001b[0;32m   1960\u001b[0m                     'GraphViz\\'s executables not found')\n\u001b[0;32m   1961\u001b[0m \u001b[1;33m\u001b[0m\u001b[0m\n",
      "\u001b[1;31mInvocationException\u001b[0m: GraphViz's executables not found"
     ]
    }
   ],
   "source": [
    "#num 24\n",
    "def save_graph(g):   \n",
    "    g.write_pdf(\"Decission_Tree.pdf\")\n",
    "    g.write_jpg(\"Decission_Tree.png\")\n",
    "\n",
    "save_graph(graph)\n",
    "\n"
   ]
  },
  {
   "cell_type": "code",
   "execution_count": 57,
   "metadata": {},
   "outputs": [
    {
     "name": "stdout",
     "output_type": "stream",
     "text": [
      "Collecting package metadata (current_repodata.json): ...working... done\n",
      "Solving environment: ...working... done\n",
      "\n",
      "## Package Plan ##\n",
      "\n",
      "  environment location: C:\\Users\\97254\\anaconda3\n",
      "\n",
      "  added / updated specs:\n",
      "    - graphviz\n",
      "\n",
      "\n",
      "The following packages will be downloaded:\n",
      "\n",
      "    package                    |            build\n",
      "    ---------------------------|-----------------\n",
      "    conda-4.10.1               |   py38haa95532_1         2.9 MB\n",
      "    graphviz-2.38              |       hfd603c8_2        29.3 MB\n",
      "    ------------------------------------------------------------\n",
      "                                           Total:        32.2 MB\n",
      "\n",
      "The following NEW packages will be INSTALLED:\n",
      "\n",
      "  graphviz           pkgs/main/win-64::graphviz-2.38-hfd603c8_2\n",
      "\n",
      "The following packages will be UPDATED:\n",
      "\n",
      "  conda                                4.9.2-py38haa95532_0 --> 4.10.1-py38haa95532_1\n",
      "\n",
      "\n",
      "\n",
      "Downloading and Extracting Packages\n",
      "\n",
      "conda-4.10.1         | 2.9 MB    |            |   0% \n",
      "conda-4.10.1         | 2.9 MB    |            |   1% \n",
      "conda-4.10.1         | 2.9 MB    | 4          |   4% \n",
      "conda-4.10.1         | 2.9 MB    | #1         |  12% \n",
      "conda-4.10.1         | 2.9 MB    | ##8        |  28% \n",
      "conda-4.10.1         | 2.9 MB    | #######9   |  80% \n",
      "conda-4.10.1         | 2.9 MB    | ########## | 100% \n",
      "conda-4.10.1         | 2.9 MB    | ########## | 100% \n",
      "\n",
      "graphviz-2.38        | 29.3 MB   |            |   0% \n",
      "graphviz-2.38        | 29.3 MB   |            |   1% \n",
      "graphviz-2.38        | 29.3 MB   | 5          |   5% \n",
      "graphviz-2.38        | 29.3 MB   | #4         |  15% \n",
      "graphviz-2.38        | 29.3 MB   | #9         |  20% \n",
      "graphviz-2.38        | 29.3 MB   | ##7        |  28% \n",
      "graphviz-2.38        | 29.3 MB   | ###5       |  35% \n",
      "graphviz-2.38        | 29.3 MB   | ####3      |  43% \n",
      "graphviz-2.38        | 29.3 MB   | #####2     |  53% \n",
      "graphviz-2.38        | 29.3 MB   | ######1    |  61% \n",
      "graphviz-2.38        | 29.3 MB   | #######    |  71% \n",
      "graphviz-2.38        | 29.3 MB   | #######9   |  79% \n",
      "graphviz-2.38        | 29.3 MB   | ########7  |  88% \n",
      "graphviz-2.38        | 29.3 MB   | #########6 |  96% \n",
      "graphviz-2.38        | 29.3 MB   | ########## | 100% \n",
      "Preparing transaction: ...working... done\n",
      "Verifying transaction: ...working... done\n",
      "Executing transaction: ...working... done\n",
      "\n",
      "Note: you may need to restart the kernel to use updated packages.\n"
     ]
    }
   ],
   "source": [
    "conda install graphviz\n",
    "pydot.find_graphviz = lambda: True\n",
    "pip install pydotplus"
   ]
  },
  {
   "cell_type": "code",
   "execution_count": 58,
   "metadata": {},
   "outputs": [
    {
     "name": "stdout",
     "output_type": "stream",
     "text": [
      "Collecting pydot-ngNote: you may need to restart the kernel to use updated packages.\n",
      "  Downloading pydot_ng-2.0.0-py2.py3-none-any.whl (20 kB)\n",
      "Requirement already satisfied: pyparsing>=2.0.1 in c:\\users\\97254\\anaconda3\\lib\\site-packages (from pydot-ng) (2.4.7)\n",
      "Installing collected packages: pydot-ng\n",
      "Successfully installed pydot-ng-2.0.0\n",
      "\n"
     ]
    }
   ],
   "source": [
    "pip install pydot-ng"
   ]
  }
 ],
 "metadata": {
  "kernelspec": {
   "display_name": "Python 3",
   "language": "python",
   "name": "python3"
  },
  "language_info": {
   "codemirror_mode": {
    "name": "ipython",
    "version": 3
   },
   "file_extension": ".py",
   "mimetype": "text/x-python",
   "name": "python",
   "nbconvert_exporter": "python",
   "pygments_lexer": "ipython3",
   "version": "3.8.5"
  }
 },
 "nbformat": 4,
 "nbformat_minor": 4
}
